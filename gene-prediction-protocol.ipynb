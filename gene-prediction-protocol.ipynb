{
 "cells": [
  {
   "cell_type": "markdown",
   "metadata": {},
   "source": [
    "# Protocol for Gene Prediction and Annotation\n",
    "Automated gene prediction and annotation is an imperfect process. It can be messy, and it is not always better than manual annotation. Its result still need to be checked manually to make sure they make sense. Perhaps one day there will be a trust worthy quality metric, but today is not that day.\n",
    "\n",
    "I always recommend loading your genome into a genome viewer like Artemis, Apollo, or IGV **and** checking summary stats make sense for your organism (e.g. average gene length or number of gene).\n",
    "\n",
    "\n",
    "## Software you'll need\n",
    "The singularity image for `dfam-TEtool` (dfam-tetools-latest.sif) in your home directory. This allows access to `Repeatmasker` and `RepeatModeller`\n",
    "\n",
    "`hisat2`, the aligner we will be using\n",
    "\n",
    "`trimmomatic`, to clean up messy RNAseq data\n",
    "\n",
    "`samtools`, to handle SAM and BAM files (the raw aligned data)\n",
    "\n",
    "`seqkit`, to quickly and cleanly handle and edit fastq files\n",
    "\n"
   ]
  },
  {
   "cell_type": "code",
   "execution_count": null,
   "metadata": {
    "vscode": {
     "languageId": "shellscript"
    }
   },
   "outputs": [],
   "source": [
    "singularity pull dfam-tetools-latest.sif docker://dfam/tetools:latest\n",
    "conda install -c bioconda hisat2 trimmomatic samtools seqkit"
   ]
  },
  {
   "cell_type": "markdown",
   "metadata": {},
   "source": [
    "# The steps to annotate a genome *in silico*"
   ]
  },
  {
   "cell_type": "markdown",
   "metadata": {},
   "source": [
    "## 1. Prepare your genome and RNAseq data"
   ]
  },
  {
   "cell_type": "markdown",
   "metadata": {},
   "source": [
    "### **Retrieve your genome fasta** \n",
    "\n",
    "Download your genome from NCBI or ENA etc. with `wget` or assemble it yourself from your own data.\n",
    "\n",
    "### **Download your SRA files**\n",
    "\n",
    "You can mass download SRA data using Michael Gerth's [SRA download script](https://github.com/gerthmicha/perlscripts/blob/master/sra_download.pl)\n",
    "\n",
    "Create a text file list of SRA identifiers with one identifier per line like this:\n",
    "\n",
    "```\n",
    "SRR000001\n",
    "SRR000002\n",
    "SRR000003\n",
    "SRR000004\n",
    "```\n",
    "\n",
    "Then pass it to the script and check out all of your download stats with `seqkit stats` to make sure everything has downloaded correctly. If any pairs of RNA do not match in the number of reads (num_seqs), re-download them."
   ]
  },
  {
   "cell_type": "markdown",
   "metadata": {},
   "source": [
    "### **Repeat mask your genome** \n",
    "\n",
    "Annotating and masking your repeats is a vital step in gene annotation. It cuts down on spurious annotations and highlights important drivers of evolution in your genome such as transposable elements.\n",
    "\n",
    "Here we use TETools `RepeatModeler2` to identify repeats *de novo*, followed by `RepeatMasker` to softmask repeats in the genome.\n",
    "\n",
    "**Soft masking** makes repeats appear as lowercase letters in the DNA sequence and means you do not lose the genetic information in those zones.\n",
    "It looks like this:\n",
    "\n",
    "\n",
    "```\n",
    "ATGCCGCAAAAAAATTTTTAGGC --> ATGCCGCaaaaaaatttttAGGC\n",
    "```\n",
    "\n",
    "Hard masking replaces repeat regions with Ns and means you lose information. Avoid doing this unless you absolutely need to. It looks like this:\n",
    "```\n",
    "ATGCCGCAAAAAAATTTTTAGGC --> ATGCCGCNNNNNNNNNNNNAGGC\n",
    "```\n",
    "\n",
    "*NOTE*\n",
    "\n",
    "Maskers can struggle if memory is not fast enough and data may need to be stored on compute HPC nodes"
   ]
  },
  {
   "cell_type": "code",
   "execution_count": null,
   "metadata": {
    "vscode": {
     "languageId": "shellscript"
    }
   },
   "outputs": [],
   "source": [
    "DB=output_name_for_repeat_db\n",
    "GENOME=genome.fa\n",
    "\n",
    "tput setaf 5; echo \"softmasking genome\"; tput sgr0\n",
    "singularity exec -B ${PWD}:${PWD},${HOME} ${HOME}/dfam-tetools-latest.sif BuildDatabase -name ${DB} ${GENOME}\n",
    "singularity exec -B ${PWD}:${PWD},${HOME} ${HOME}/dfam-tetools-latest.sif RepeatModeler -database ${DB} -threads 32 -LTRStruct\n",
    "singularity exec -B ${PWD}:${PWD},${HOME} ${HOME}/dfam-tetools-latest.sif RepeatMasker -pa 32 -lib ${DB}-families.fa -xsmall ${GENOME}\n",
    "tput setaf 2; echo \"softmasking complete\"; tput sgr0"
   ]
  },
  {
   "cell_type": "markdown",
   "metadata": {},
   "source": [
    "## 2a. Preparing your files for, and running BRAKER3\n",
    "\n",
    "[Here's a video](https://www.youtube.com/watch?v=UXTkJ4mUkyg) on how to run all versions of BRAKER and GALBA (feat. OMArk and BUSCO). I highly reccomend taking the time to watch it."
   ]
  },
  {
   "cell_type": "markdown",
   "metadata": {},
   "source": [
    "**Clean your RNAseq data**\n",
    "\n",
    "You don't know where your RNAseq data has come from. Quality check (QC) it and give it a clean.\n",
    "\n",
    "`fastQC` can be used to QC and will rpoduce some nice visuals for you. A tutorial video can be found [here](https://www.youtube.com/watch?v=bz93ReOv87Y).\n",
    "\n",
    "Next we need to clean it. We will be using `Trimmomatic`. Trimmomatic can be a little tempermental but it does its job. If you want to know more, read [this](https://www.biocomputix.com/post/trimming-ngs-data-trimmomatic#viewer-6fi0o)\n",
    "\n",
    "You'll need to pass trimmomatic the location of an adaptor file. These can be found on their Github. In the code below replace `TruSeq3-PE.fa` with the path/name.fa of your adpaters (probably also TruSeq3-PE.fa).\n"
   ]
  },
  {
   "cell_type": "code",
   "execution_count": null,
   "metadata": {
    "vscode": {
     "languageId": "shellscript"
    }
   },
   "outputs": [],
   "source": [
    "# define your SRA list file\n",
    "SRA_LIST=sra-list.txt\n",
    "\n",
    "# for PAIRED data\n",
    "for RNA_PREFIX in $(cat ${SRA_LIST})\n",
    "do\n",
    "    RNASEQ_FWD=${RNA_PREFIX}_1_clean.fastq.gz\n",
    "    RNASEQ_REV=${RNA_PREFIX}_2_clean.fastq.gz\n",
    "    \n",
    "    # trim the fastq file with trimmomatic\n",
    "    tput setaf 6; echo \"------START of trimming for ${RNA_PREFIX}\"; tput sgr0\n",
    "    trimmomatic PE -phred33 -threads 32 ${RNASEQ_FWD} ${RNASEQ_REV} ${RNA_PREFIX}_fpaired.fq.gz ${RNA_PREFIX}_funpaired.fq.gz ${RNA_PREFIX}_rpaired.fq.gz ${RNA_PREFIX}_runpaired.fq.gz ILLUMINACLIP:TruSeq3-PE.fa:2:30:10 LEADING:3 TRAILING:3 SLIDINGWINDOW:4:15 MINLEN:25\n",
    "    echo \"Number of trimmed forward paired reads: \" \n",
    "    echo $(zcat ${RNA_PREFIX}_rpaired.fq.gz |wc -l)/4|bc\n",
    "    echo \"Number of trimmed reverse paired reads: \" \n",
    "    echo $(zcat ${RNA_PREFIX}_fpaired.fq.gz |wc -l)/4|bc\n",
    "    tput setaf 2; echo \"------END of  trimming for ${RNA_PREFIX}------\"; tput sgr0\n",
    "    echo\n",
    "done"
   ]
  },
  {
   "cell_type": "code",
   "execution_count": null,
   "metadata": {
    "vscode": {
     "languageId": "shellscript"
    }
   },
   "outputs": [],
   "source": [
    "# for UNPAIRED data\n",
    "for RNA_PREFIX in $(cat ${SRA_LIST})\n",
    "do\n",
    "    RNASEQ=${RNA_PREFIX}_clean.fastq.gz\n",
    "    trimmomatic SE -phred33 -threads 32 ${RNASEQ} ${RNA_PREFIX}_trimmed.fq.gz ILLUMINACLIP:TruSeq3-PE.fa:2:30:10 LEADING:3 TRAILING:3 SLIDINGWINDOW:4:15 MINLEN:25\n",
    "done"
   ]
  },
  {
   "cell_type": "markdown",
   "metadata": {},
   "source": [
    "**Align your RNAseq data**\n",
    "\n",
    "Next, use `Hisat2` to align your RNAseq data to your genome. \n",
    "\n",
    "Another aligner you could use for this is STAR, but for most purposes Hisat2 is good enough. STAR is more computationally expensive and runs more slowly, but can be better with draft genome and poor quality genomes. If you're interested in knowing more, start [here first](https://www.biostars.org/p/288726/), then [here](https://pmc.ncbi.nlm.nih.gov/articles/PMC5792058/), and then [here](https://pmc.ncbi.nlm.nih.gov/articles/PMC7084517/)."
   ]
  },
  {
   "cell_type": "code",
   "execution_count": null,
   "metadata": {
    "vscode": {
     "languageId": "shellscript"
    }
   },
   "outputs": [],
   "source": [
    "# name your file prefixes\n",
    "NAME=name-of-your-alignment-run\n",
    "IDX=prefix-for-your-database\n",
    "\n",
    "# build the database for hisat2. This only needs to be done once per genome.\n",
    "hisat2-build ${GENOME} ${IDX}"
   ]
  },
  {
   "cell_type": "code",
   "execution_count": null,
   "metadata": {
    "vscode": {
     "languageId": "shellscript"
    }
   },
   "outputs": [],
   "source": [
    "# gather your forward and reverse reads from trimmomatic into comma delimited lists with no white spaces\n",
    "FWD_FILES=$(ls -m SRR*fpaired.fq.gz)\n",
    "FWD_FILES=$(sed -s 's/ //g' $FWD_FILES)\n",
    "REV_FILES=$(ls -m SRR*rpaired.fq.gz | sed -s 's/ //g')\n",
    "REV_FILES=$(sed -s 's/ //g' $REV_FILES)\n",
    "\n",
    "# run hisat2 for PAIRED data\n",
    "hisat2 -p 32 -q -x ${IDX} -1 ${FWD_FILES} -2 ${REV_FILES} > ${NAME}-hisat2-rnaseq.sam  2> ${NAME}-hisat2-align.err"
   ]
  },
  {
   "cell_type": "code",
   "execution_count": null,
   "metadata": {
    "vscode": {
     "languageId": "shellscript"
    }
   },
   "outputs": [],
   "source": [
    "# run hisat2 for PAIRED data\n",
    "hisat2 -p 32 -q -x ${IDX} -U ${RNASEQ} > ${NAME}-hisat2-rnaseq.sam  2> ${NAME}-hisat2-align.err"
   ]
  },
  {
   "cell_type": "code",
   "execution_count": null,
   "metadata": {
    "vscode": {
     "languageId": "shellscript"
    }
   },
   "outputs": [],
   "source": [
    "# turn your SAM files into sorted BAM files\n",
    "samtools view -bS -@ 12 ${NAME}-hisat2-rnaseq.sam -o ${NAME}-hisat2-rnaseq.bam\n",
    "samtools sort -@ 12 ${NAME}-hisat2-rnaseq.bam -o ${NAME}-hisat2-rnaseq_sorted.bam\n",
    "rm ${NAME}-hisat2-rnaseq.sam; rm ${NAME}-hisat2-rnaseq.bam"
   ]
  },
  {
   "cell_type": "markdown",
   "metadata": {},
   "source": [
    "### **Run BRAKER3**\n",
    "\n",
    "[BRAKER3](https://github.com/Gaius-Augustus/BRAKER) requires three main inputs to run 1) your genome 2) your aligned reads for that genome 3) a reference protein database for your organism. You can make your own protein database, but the BRAKER3 team have complied some [prepartitioned collections](https://bioinf.uni-greifswald.de/bioinf/partitioned_odb11/) from OrthoDB for you. \n",
    "\n",
    "**We want to run BRAKER3 with several additional flags:**\n",
    "\n",
    "`--threads`, define the number of threads to use\n",
    "\n",
    "`--gff`, outputs results as a gff\n",
    "\n",
    "`--workingdir`, names the output directory\n",
    "\n",
    "**Getting BUSCO scores**\n",
    "\n",
    "You may also want to run BUSCO to check your outputs. You can do this in BRAKER via `compleasm` by adding `--busco_lineage=lineage` and naming a [BUSCO lineage](https://busco.ezlab.org/list_of_lineages.html) like 'alveolata_odb10' or 'fungi_odb10'.\n",
    "\n",
    "Alternatively, run BUSCO through [compleasm](https://github.com/huangnengCSU/compleasm) yourself."
   ]
  },
  {
   "cell_type": "code",
   "execution_count": null,
   "metadata": {
    "vscode": {
     "languageId": "shellscript"
    }
   },
   "outputs": [],
   "source": [
    "T=32\n",
    "SORTED_BAM=\"rnaseq_sorted.bam\"\n",
    "\n",
    "# This combines the input bam name and potein database used into one name\n",
    "# This will be your output directory\n",
    "WD=$(basename -s .bam ${SORTED_BAM})_$(basename -s .fa ${PROT_DB})\n",
    "\n",
    "# run BRAKER3\n",
    "singularity exec -B ${PWD}:${PWD},${HOME} ${HOME}/braker3.sif braker.pl --genome=${GENOME} --prot_seq=${HOME}/BRAKER-DB/Alveolata.fa --bam=${SORTED_BAM} --threads=${T} --gff"
   ]
  },
  {
   "cell_type": "markdown",
   "metadata": {},
   "source": [
    "## 2b. Run Funnannotate\n",
    "\n",
    "Perhaps your BRAKER3 run failed. Perhaps you just want to run funannotate. Here is a how to do that.\n",
    "\n",
    "Funannotate is very talkative, and provides many more supporting files so you can really go to town figuring out what has happened during the gene prediction process. It can also predict UTR regions.\n",
    "However. For most genomes, Funannotate simply does not perform as well as BRAKER3. One expection to this seems to be Fungi (shocking that it performs best on the organisms it was designed for, huh?)\n",
    "\n",
    "Anyway, running funannotate is arguably simpler than BRAKER and you can add a whole host of supporting data to help it annotate gene models, such as proten databases, other gene predictor results, and bam files. The software will also point you in the right direction for functional annotation with antiSMASH and interproscan (don't run their commands for it if you are on HPC clusters though, at least one uses docker which is not and will not be install for security reasons).\n",
    "\n",
    "All you need to give funannotate is:\n",
    "\n",
    "- the `softmasked genome` \n",
    "- all the cleaned (but *NOT* trimmed) SRA fastq files. Funannotate will run trimmomatic itself unless you tell it not to.\n",
    "\n",
    "You may want to edit `--max_intronlen` to be appropriate for your species.\n",
    "\n",
    "You may also want to turn off `--repeats2evm` if you are dealing with a fungi genome with high gene density. This option is best for large genomes and genomes with high repeat content\n",
    "\n",
    "If you want to learn more about funannotate's gene prediction options, read [this](https://funannotate.readthedocs.io/en/stable/predict.html#gene-prediction)."
   ]
  },
  {
   "cell_type": "code",
   "execution_count": null,
   "metadata": {
    "vscode": {
     "languageId": "shellscript"
    }
   },
   "outputs": [],
   "source": [
    "GENOME=softmasked-genome.fasta\n",
    "OUT_DIR=funannotate-output-name\n",
    "SPECIES=\"SpeciesNameWithNoSpaces\"\n",
    "STRAIN=\"StrainName\"\n",
    "\n",
    "#TRAIN\n",
    "singularity exec -B ${PWD}:${PWD},${HOME} ${HOME}/funannotate.sif funannotate train -i ${GENOME} -o ${OUT_DIR} --left [ES]RR*_1.fastq.gz --right [ES]RR*_2.fastq.gz  --species ${SPECIES} --strain ${STRAIN} --cpus 48 --max_intronlen 100000\n",
    "#PREDICT\n",
    "singularity exec -B ${PWD}:${PWD},${HOME} ${HOME}/funannotate.sif funannotate predict -i ${GENOME} -o ${OUT_DIR} -s ${SPECIES} --strain ${STRAIN} --cpus 48 --repeats2evm --organism other\n",
    "#UPDATE\n",
    "singularity exec -B ${PWD}:${PWD},${HOME} ${HOME}/funannotate.sif funannotate update -i ${OUT_DIR} -g ${GENOME} --cpus 48 --max_intronlen 100000"
   ]
  },
  {
   "cell_type": "markdown",
   "metadata": {},
   "source": [
    "## 3. What next? \n"
   ]
  },
  {
   "cell_type": "markdown",
   "metadata": {},
   "source": [
    "### Predict UTRs\n",
    "BRAKER3 does not have a stable way to predict UTR regions, but Funannotate does. Luckily, you can use `funannotate update` on its own to predict UTR regions through PASA. See the documentation [here](https://funannotate.readthedocs.io/en/latest/update.html).\n",
    "\n",
    "There are many other programmes designed to predict 3' and 5' UTRs for different organisms, and like gene models, UTR prediction may not always be biologically correct. However, UTRs are important for evolution and gene function, so it is worth giving a go and assessing for yoursel if the UTRs predicted make sense.\n",
    "\n",
    "remember to set your `--max_intronlen` to something sensible for your species"
   ]
  },
  {
   "cell_type": "code",
   "execution_count": null,
   "metadata": {
    "vscode": {
     "languageId": "shellscript"
    }
   },
   "outputs": [],
   "source": [
    "# predict UTRs with funannotate update\n",
    "singularity exec -B ${PWD}:${PWD},${HOME} ${HOME}/funannotate.sif funannotate update --fasta genome.fa --gff braker.gff -o output-dir-name --species \"Species name\" --cpus 48 --max_intronlen 100000 --left [ES]RR*_1.fastq.gz --right [ES]RR*_2.fastq.gz "
   ]
  },
  {
   "cell_type": "markdown",
   "metadata": {},
   "source": [
    "### Functional annotation\n",
    "So far all you have is *structural annotation*. If you want to predict what a gene *might* do, you need to do *functional annotation*. There are several things you can do:\n",
    "- GO term annotation with [EggNOG-mapper](https://github.com/eggnogdb/eggnog-mapper) or [interproscan](https://interproscan-docs.readthedocs.io/en/latest/HowToRun.html)\n",
    "- interpro domain, pfam, PANTHER, and Gene3D annotation through [interproscan](https://interproscan-docs.readthedocs.io/en/latest/HowToRun.html)\n",
    "- secondary metabolite prediction with [antiSMASH](https://docs.antismash.secondarymetabolites.org/intro/) for fungi, plants, and microbes.\n",
    "\n",
    "Following functional annotation, you may want to do a [pathway enrichment analysis](https://geneontology.org/docs/go-enrichment-analysis/) to assess what genes are most prevelant in you sample.\n",
    "\n",
    "I highly recommend running interproscan with the `--goterms` and `--iprlookup` flags, plus `-appl` with any additional analyses you're interested in."
   ]
  },
  {
   "cell_type": "markdown",
   "metadata": {},
   "source": [
    "### Compare gff files\n",
    "\n",
    "Do you have multiple annotations for one genome, including a reference which you would like to compare? Try using [GffCompare](https://ccb.jhu.edu/software/stringtie/gffcompare.shtml).\n",
    "\n",
    "Make a textfile list of all the gffs you want to compare. They must all be on the same genome for it to work.\n",
    "\n",
    "The output `.tracking` file will have a serioes of columns, one for each gff. They will not be named, but they are in order of your input."
   ]
  },
  {
   "cell_type": "code",
   "execution_count": null,
   "metadata": {
    "vscode": {
     "languageId": "shellscript"
    }
   },
   "outputs": [],
   "source": [
    "gffcompare -r reference-annotation.gff -i input-gffs.txt -o gffcompare-output-prefix"
   ]
  },
  {
   "cell_type": "markdown",
   "metadata": {
    "vscode": {
     "languageId": "shellscript"
    }
   },
   "source": [
    "You may visualise your `.tracking` file as stacked bar charts with this python code:"
   ]
  },
  {
   "cell_type": "code",
   "execution_count": null,
   "metadata": {},
   "outputs": [],
   "source": [
    "import pandas as pd\n",
    "import matplotlib.pyplot as plt\n",
    "import seaborn as sns\n",
    "from pathlib import Path\n",
    "\n",
    "def plot_stats(file):      \n",
    "    palette = ['#9e9e9e',\n",
    "                 '#ffa200',\n",
    "                 '#502F4C',\n",
    "                 '#70587c',\n",
    "                 '#C8B8DB',\n",
    "                 '#56EEF4',\n",
    "                 '#74B3CE',\n",
    "                 '#034E21',\n",
    "                 '#DDCC77',\n",
    "                 '#AA4499',\n",
    "                 '#FF5376',\n",
    "                 '#882255',\n",
    "                 '#09BC8A',\n",
    "                 '#005C69']\n",
    "    sns.set(font_scale=1, rc={\"figure.figsize\":(10,7)})\n",
    "    sns.set_palette(palette=palette)\n",
    "    df3 = df.iloc[:,4:-1]!='-'\n",
    "    df3['Class code'] = df['Class code']\n",
    "    df3 = df3.sort_values(by='Class code')\n",
    "    fig, ax = plt.subplots(figsize=(8, 6))\n",
    "    df3.groupby('Class code').sum().T.plot(kind='bar', stacked=True, ax=ax)\n",
    "    plt.title(outname)\n",
    "    plt.legend(loc='upper left',bbox_to_anchor=(1, 1))\n",
    "    return df\n",
    "\n",
    "\n",
    "file = 'gffcompare.tracking'\n",
    "df = pd.read_csv(file, sep='\\t', header=None)\n",
    "outname = Path(file).stem\n",
    "df.rename(columns={0:'Query transfrag id',\n",
    "                        1:'Query locus id',\n",
    "                        2:'Reference gene id',\n",
    "                        3:'Class code',\n",
    "                        4:'gff 1 name',\n",
    "                        5:'gff 2 name',\n",
    "                        6:'gff 3 name'\n",
    "                        }, inplace=True)\n",
    "code_dict = {'=':'Exact match of intron chain', \n",
    "                'c':'Contained in reference (intron compatible)', \n",
    "                'm':'All introns matched or retained', \n",
    "                'o':'Other same strand overlap with reference exons', \n",
    "                'j':'Multi-exon with atleast one junction match', \n",
    "                'i':'Fully contained within a reference intron', \n",
    "                'n':'Not all introns matched or retained', \n",
    "                'e':'Single exon transfrag partially covering an intron', \n",
    "                'x':'Exonic overlap on opposite strand', \n",
    "                'p':'Possible polymerase run-on (no actual overlap)', \n",
    "                'u':'Unknown, intergenic', \n",
    "                'k':'Containment of reference (reverse containment)'}\n",
    "df['Class name'] = df['Class code'].map(code_dict)\n",
    "\n",
    "plot_stats(df)"
   ]
  }
 ],
 "metadata": {
  "kernelspec": {
   "display_name": "Python 3",
   "language": "python",
   "name": "python3"
  },
  "language_info": {
   "name": "python",
   "version": "3.8.10"
  }
 },
 "nbformat": 4,
 "nbformat_minor": 2
}
